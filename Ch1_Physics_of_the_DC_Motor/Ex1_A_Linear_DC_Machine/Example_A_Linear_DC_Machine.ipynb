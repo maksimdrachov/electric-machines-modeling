{
 "cells": [
  {
   "cell_type": "markdown",
   "source": [
    "In this example, I will investigate how to calculate cross-products in Python.\n",
    "\n",
    "Numpy doesn't deal with symbolic math, however can be used to calculate cross-products:"
   ],
   "metadata": {
    "collapsed": false
   },
   "id": "cda47ad5bb62954b"
  },
  {
   "cell_type": "code",
   "outputs": [
    {
     "name": "stdout",
     "output_type": "stream",
     "text": [
      "[-3  6 -3]\n"
     ]
    }
   ],
   "source": [
    "import numpy as np\n",
    "x = [1, 2, 3]\n",
    "y = [4, 5, 6]\n",
    "print(np.cross(x, y))"
   ],
   "metadata": {
    "collapsed": true,
    "ExecuteTime": {
     "end_time": "2023-12-30T14:48:19.700067Z",
     "start_time": "2023-12-30T14:48:19.542028Z"
    }
   },
   "id": "initial_id",
   "execution_count": 1
  },
  {
   "cell_type": "markdown",
   "source": [
    "However, Sympy does allow for symbolic maths:"
   ],
   "metadata": {
    "collapsed": false
   },
   "id": "8ef2f63c9fe723b0"
  },
  {
   "cell_type": "code",
   "outputs": [
    {
     "name": "stdout",
     "output_type": "stream",
     "text": [
      "Cross product:  (5*y + 3*z)*N.i + (-5*x + 2*z)*N.j + (-3*x - 2*y)*N.k\n"
     ]
    }
   ],
   "source": [
    "from sympy import symbols\n",
    "from sympy.vector import CoordSys3D\n",
    "\n",
    "# Define symbolic variables\n",
    "x, y, z = symbols('x y z')\n",
    "\n",
    "# Create a 3D coordinate system\n",
    "N = CoordSys3D('N')\n",
    "\n",
    "# Define two vectors\n",
    "v1 = x * N.i + y * N.j + z * N.k\n",
    "v2 = 2 * N.i - 3 * N.j + 5 * N.k\n",
    "\n",
    "# Compute the cross product\n",
    "cross_product = v1.cross(v2)\n",
    "\n",
    "# Display the results\n",
    "print(\"Cross product: \", cross_product)"
   ],
   "metadata": {
    "collapsed": false,
    "ExecuteTime": {
     "end_time": "2023-12-30T14:53:51.766991Z",
     "start_time": "2023-12-30T14:53:51.543416Z"
    }
   },
   "id": "27a1585f37e3f4f4",
   "execution_count": 2
  },
  {
   "cell_type": "markdown",
   "source": [
    "Now, let's apply this to the example at hand:"
   ],
   "metadata": {
    "collapsed": false
   },
   "id": "1620242285e0d54f"
  },
  {
   "cell_type": "code",
   "outputs": [
    {
     "name": "stdout",
     "output_type": "stream",
     "text": [
      "Cross product:  B*i*l*N.i\n"
     ]
    }
   ],
   "source": [
    "from sympy import symbols\n",
    "from sympy.vector import CoordSys3D\n",
    "\n",
    "# Define symbolic variables\n",
    "l, i, B = symbols('l i B')\n",
    "\n",
    "# Create a 3D coordinate system\n",
    "N = CoordSys3D('N')\n",
    "\n",
    "# Define two vectors\n",
    "CurrentLength = 0 * N.i - l * i * N.j + 0 * N.k\n",
    "MagneticInductionField = 0 * N.i + 0 * N.j - B * N.k\n",
    "\n",
    "# Compute the cross product\n",
    "cross_product = CurrentLength.cross(MagneticInductionField)\n",
    "\n",
    "# Display the results\n",
    "print(\"Cross product: \", cross_product)"
   ],
   "metadata": {
    "collapsed": false,
    "ExecuteTime": {
     "end_time": "2023-12-30T14:59:45.594261Z",
     "start_time": "2023-12-30T14:59:45.590242Z"
    }
   },
   "id": "deebf57c225a3bc5",
   "execution_count": 5
  },
  {
   "cell_type": "code",
   "outputs": [],
   "source": [],
   "metadata": {
    "collapsed": false
   },
   "id": "432adcf1f1803e4b"
  }
 ],
 "metadata": {
  "kernelspec": {
   "display_name": "Python 3",
   "language": "python",
   "name": "python3"
  },
  "language_info": {
   "codemirror_mode": {
    "name": "ipython",
    "version": 2
   },
   "file_extension": ".py",
   "mimetype": "text/x-python",
   "name": "python",
   "nbconvert_exporter": "python",
   "pygments_lexer": "ipython2",
   "version": "2.7.6"
  }
 },
 "nbformat": 4,
 "nbformat_minor": 5
}
